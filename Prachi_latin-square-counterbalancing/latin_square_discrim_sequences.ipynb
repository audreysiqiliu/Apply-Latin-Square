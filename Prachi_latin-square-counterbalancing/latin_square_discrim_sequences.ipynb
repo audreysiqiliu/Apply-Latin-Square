{
 "cells": [
  {
   "cell_type": "markdown",
   "metadata": {},
   "source": [
    "# Discrimination Latin Square Sequences"
   ]
  },
  {
   "cell_type": "code",
   "execution_count": 1,
   "metadata": {},
   "outputs": [],
   "source": [
    "import scipy.io\n",
    "import os \n",
    "import pandas as pd\n",
    "import numpy as np\n",
    "import math\n",
    "import matplotlib.pyplot as plt\n",
    "import scipy \n",
    "import scipy.stats as stats\n",
    "from scipy.stats import sem \n",
    "import json\n",
    "import random\n",
    "import copy"
   ]
  },
  {
   "cell_type": "code",
   "execution_count": null,
   "metadata": {},
   "outputs": [],
   "source": []
  },
  {
   "cell_type": "code",
   "execution_count": 7,
   "metadata": {},
   "outputs": [
    {
     "data": {
      "text/plain": [
       "((78, 78),\n",
       " array([[69, 16, 59, 19, 67, 26, 60,  5, 17, 13, 12,  6, 61, 51, 52, 21,\n",
       "         43, 58, 14, 34, 70, 35, 78,  3,  7, 28, 32,  1, 75, 18, 72,  4,\n",
       "         25, 56, 37, 23, 64, 20, 73, 39, 46, 54, 45, 76, 55, 47, 63, 38,\n",
       "         77, 62, 48, 44, 66,  2, 36, 27, 31, 40, 57, 41, 29, 10, 53, 15,\n",
       "         50, 49, 11, 30, 68, 74, 24,  9,  8, 71, 33, 42, 65, 22],\n",
       "        [ 5, 26,  7, 49, 24, 18, 15, 13, 14, 25, 39, 28, 35, 67, 71, 36,\n",
       "         21,  8, 69, 32,  1, 63,  4, 29, 55, 34, 40, 33, 58, 62, 70, 72,\n",
       "         51, 77, 78, 66, 17,  9, 22, 46, 45, 20, 37, 48, 10, 59, 53, 74,\n",
       "         31, 47, 61, 57, 54, 50, 16, 23, 30, 38, 60,  2, 11, 56, 43, 19,\n",
       "         44, 68, 73, 27, 65, 41, 12,  3, 75,  6, 64, 76, 52, 42],\n",
       "        [32, 40, 71, 42, 35,  1, 30, 14, 57,  9, 46, 73,  4, 10, 22, 66,\n",
       "         13, 16, 47, 15, 51, 23, 43, 67, 64,  7, 69, 38, 19, 29, 41, 33,\n",
       "          6, 37, 39, 36, 55, 12, 54, 25, 58, 18,  3, 77, 74, 70, 76, 60,\n",
       "         65, 75,  5,  8, 61, 53, 45, 68, 48, 11, 56, 17, 44, 20, 63, 28,\n",
       "         59, 27, 78, 26, 72, 50, 52, 24, 21,  2, 34, 31, 62, 49]],\n",
       "       dtype=uint8))"
      ]
     },
     "execution_count": 7,
     "metadata": {},
     "output_type": "execute_result"
    }
   ],
   "source": [
    "# load latin square from MATLAB randls function\n",
    "\n",
    "p = '/Users/pmahableshwarkar/Documents/Depth_Project/latin-square-counterbalancing/randls78.mat'\n",
    "\n",
    "randls78 = scipy.io.loadmat(p)['ans']\n",
    "\n",
    "randls78.shape, randls78[0:3]"
   ]
  },
  {
   "cell_type": "code",
   "execution_count": null,
   "metadata": {},
   "outputs": [],
   "source": []
  },
  {
   "cell_type": "code",
   "execution_count": 9,
   "metadata": {},
   "outputs": [],
   "source": [
    "# load an existing balanced VE sequence and seperate into 4 blocks\n",
    "discrim_seq_path = '/Users/pmahableshwarkar/Documents/Depth_Project/latin-square-counterbalancing/adjusted_j13.json'\n",
    "\n",
    "with open(discrim_seq_path, 'r') as f:\n",
    "    discrim_seq = json.load(f)\n",
    "    \n"
   ]
  },
  {
   "cell_type": "code",
   "execution_count": 10,
   "metadata": {},
   "outputs": [],
   "source": [
    "to_remove = ['000505_2014-06-08_23-03-23_260595134347_rgbf000091-resize_0',\n",
    " '002579_2014-06-24_14-08-03_094959634447_rgbf000061-resize_2',\n",
    " '003546_2014-05-22_15-48-53_094959634447_rgbf004816-resize_3',\n",
    " '000830_2014-06-04_19-49-31_260595134347_rgbf000096-resize_2',\n",
    " '002460_2014-06-28_20-35-43_260595134347_rgbf000028-resize_4',\n",
    " '002468_2014-06-28_20-38-39_260595134347_rgbf000045-resize_1',\n",
    " '002139_2014-06-25_21-19-37_260595134347_rgbf000124-resize_2',\n",
    " '002365_2014-06-28_20-11-21_260595134347_rgbf000102-resize_1',\n",
    " '002700_2014-06-22_11-27-02_094959634447_rgbf000124-resize_3',\n",
    " '001724_2014-06-26_19-28-50_260595134347_rgbf000037-resize_7',\n",
    " '002464_2014-06-28_20-36-57_260595134347_rgbf000029-resize_0',\n",
    " '003288_2014-05-14_21-50-30_094959634447_rgbf000028-resize_3',\n",
    " '002305_2014-06-28_19-56-50_260595134347_rgbf000102-resize_7',\n",
    " '001181_2014-06-17_15-50-57_260595134347_rgbf000106-resize_4',\n",
    " '000555_2014-06-09_22-42-23_260595134347_rgbf000037-resize_4',\n",
    " '003092_2014-06-24_21-01-49_094959634447_rgbf000049-resize_2',\n",
    " '001532_2014-06-20_16-50-41_260595134347_rgbf000081-resize_4',\n",
    " '000636_2014-06-08_16-39-02_260595134347_rgbf000108-resize_4']"
   ]
  },
  {
   "cell_type": "code",
   "execution_count": 11,
   "metadata": {},
   "outputs": [
    {
     "data": {
      "text/plain": [
       "(78, 8)"
      ]
     },
     "execution_count": 11,
     "metadata": {},
     "output_type": "execute_result"
    }
   ],
   "source": [
    "# removes trials that have bad images, and removes catch trials \n",
    "\n",
    "count_remove = 0\n",
    "depths = []\n",
    "cleaned_discrim_seq = []\n",
    "catch = []\n",
    "for trial in discrim_seq:\n",
    "    if trial['sequence'] != 'catch_trial':\n",
    "        p0 = trial['image_path_target_0'].split('/')[1]\n",
    "        p1 = trial['image_path_target_1'].split('/')[1]\n",
    "        if p0 in to_remove:\n",
    "            count_remove += 1\n",
    "        else:\n",
    "            if p1 in to_remove:\n",
    "                count_remove += 1\n",
    "                \n",
    "        if p0 not in to_remove:\n",
    "            if p1 not in to_remove:\n",
    "                d0 = trial['depth_0']\n",
    "                depths.append(d0)\n",
    "                d1 = trial['depth_1']\n",
    "                depths.append(d1)\n",
    "                cleaned_discrim_seq.append(trial)\n",
    "    else:\n",
    "        catch.append(trial)\n",
    "\n",
    "len(cleaned_discrim_seq), len(catch)"
   ]
  },
  {
   "cell_type": "code",
   "execution_count": 12,
   "metadata": {},
   "outputs": [],
   "source": [
    "# Discrimination_AccurateResponse_Distribution(cleaned_discrim_seq)"
   ]
  },
  {
   "cell_type": "code",
   "execution_count": null,
   "metadata": {},
   "outputs": [],
   "source": []
  },
  {
   "cell_type": "code",
   "execution_count": null,
   "metadata": {},
   "outputs": [],
   "source": []
  },
  {
   "cell_type": "code",
   "execution_count": 13,
   "metadata": {},
   "outputs": [],
   "source": [
    "def randls_to_sequence(randls_row, block):\n",
    "    '''\n",
    "    Uses indeces from the randls matrix row to build sequence\n",
    "    \n",
    "    Args:\n",
    "        randls_row - one row of the randls matrix\n",
    "        block - one block out of the four in the VE sequence\n",
    "    Returns:\n",
    "        VE trials in sequence\n",
    "    '''\n",
    "    sequence = []\n",
    "    for elem in randls_row:\n",
    "        if elem == len(randls_row):\n",
    "            idx = 0\n",
    "        else:\n",
    "            idx = elem\n",
    "        sequence.append(block[idx])\n",
    "    return sequence \n",
    "\n",
    "def main_randls_blocks(randls, block):\n",
    "    '''\n",
    "    Converts each randls row into a sequence \n",
    "    \n",
    "    Args:\n",
    "        randls - randls matrix from MATLAB\n",
    "        block - one block out of the four in the VE sequence\n",
    "    Returns:\n",
    "        All sequences from the randls matrix in trial sequence format\n",
    "    '''\n",
    "    block_sequences = []\n",
    "    for i in range(randls.shape[0]):\n",
    "        row = randls[i]\n",
    "        seq = randls_to_sequence(row, block)\n",
    "        block_sequences.append(seq)\n",
    "    return block_sequences"
   ]
  },
  {
   "cell_type": "code",
   "execution_count": 14,
   "metadata": {},
   "outputs": [],
   "source": [
    "full_randls_seqs = main_randls_blocks(randls78, cleaned_discrim_seq)\n"
   ]
  },
  {
   "cell_type": "code",
   "execution_count": 15,
   "metadata": {},
   "outputs": [
    {
     "data": {
      "text/plain": [
       "(78, 78)"
      ]
     },
     "execution_count": 15,
     "metadata": {},
     "output_type": "execute_result"
    }
   ],
   "source": [
    "len(full_randls_seqs), len(full_randls_seqs[0])"
   ]
  },
  {
   "cell_type": "code",
   "execution_count": 16,
   "metadata": {},
   "outputs": [],
   "source": [
    "# shuffle the order of the sequences\n",
    "random.shuffle(full_randls_seqs)\n"
   ]
  },
  {
   "cell_type": "code",
   "execution_count": 193,
   "metadata": {},
   "outputs": [
    {
     "data": {
      "text/plain": [
       "(9, 6, 11, 17, 9, 10, 6)"
      ]
     },
     "execution_count": 193,
     "metadata": {},
     "output_type": "execute_result"
    }
   ],
   "source": [
    "15-6, 23-17, 34-23, 51-34, 60-51, 70-60, 76-70\n",
    "\n"
   ]
  },
  {
   "cell_type": "code",
   "execution_count": 247,
   "metadata": {},
   "outputs": [
    {
     "data": {
      "text/plain": [
       "(78,\n",
       " 86,\n",
       " {'sequence': 'j13',\n",
       "  'duration': 1000,\n",
       "  'depth_0': 4.2115,\n",
       "  'depth_1': 3.753,\n",
       "  'image_path_target_0': 'depth_discrimination_stimuli/001133_2014-06-17_14-49-16_260595134347_rgbf000100-resize_0/001133_2014-06-17_14-49-16_260595134347_rgbf000100-resize_0-target.png',\n",
       "  'image_path_target_1': 'depth_discrimination_stimuli/001132_2014-06-17_14-48-54_260595134347_rgbf000100-resize_2/001132_2014-06-17_14-48-54_260595134347_rgbf000100-resize_2-target.png',\n",
       "  'mask_path': 'masks/mask_39.jpg',\n",
       "  'fixation_path': 'fixation.jpg'})"
      ]
     },
     "execution_count": 247,
     "metadata": {},
     "output_type": "execute_result"
    }
   ],
   "source": [
    "# build the blocks together + catch trials\n",
    "sequences78 = []\n",
    "# pick 47/94 sequences\n",
    "random.shuffle(catch)\n",
    "for i in range(len(full_randls_seqs)):\n",
    "    fseq = full_randls_seqs[i]\n",
    "    catch_locs = [6, 15, 23, 34, 51, 60, 70, 76]\n",
    "    for i in range(len(catch)):\n",
    "        fseq.insert(catch_locs[i], catch[i])\n",
    "    \n",
    "    sequences78.append(fseq)\n",
    "    \n",
    "len(sequences78), len(sequences78[0]), sequences78[0][0]"
   ]
  },
  {
   "cell_type": "code",
   "execution_count": null,
   "metadata": {},
   "outputs": [],
   "source": []
  },
  {
   "cell_type": "code",
   "execution_count": 248,
   "metadata": {},
   "outputs": [
    {
     "data": {
      "text/plain": [
       "{'sequence': 'j13',\n",
       " 'duration': 250,\n",
       " 'depth_0': 4.2115,\n",
       " 'depth_1': 3.753,\n",
       " 'image_path_target_0': 'depth_discrimination_stimuli/001133_2014-06-17_14-49-16_260595134347_rgbf000100-resize_0/001133_2014-06-17_14-49-16_260595134347_rgbf000100-resize_0-target.png',\n",
       " 'image_path_target_1': 'depth_discrimination_stimuli/001132_2014-06-17_14-48-54_260595134347_rgbf000100-resize_2/001132_2014-06-17_14-48-54_260595134347_rgbf000100-resize_2-target.png',\n",
       " 'mask_path': 'masks/mask_39.jpg',\n",
       " 'fixation_path': 'fixation.jpg'}"
      ]
     },
     "execution_count": 248,
     "metadata": {},
     "output_type": "execute_result"
    }
   ],
   "source": [
    "# set all trial durations to 250 ms\n",
    "for seq in sequences78:\n",
    "    for trial in seq:\n",
    "        trial['duration'] = 250\n",
    "\n",
    "sequences78[0][0]"
   ]
  },
  {
   "cell_type": "code",
   "execution_count": null,
   "metadata": {},
   "outputs": [],
   "source": []
  },
  {
   "cell_type": "code",
   "execution_count": 249,
   "metadata": {},
   "outputs": [],
   "source": [
    "# deepcopy of sequences - prevents alterations \n",
    "sequences78_250ms = copy.deepcopy(sequences78)"
   ]
  },
  {
   "cell_type": "code",
   "execution_count": null,
   "metadata": {},
   "outputs": [],
   "source": []
  },
  {
   "cell_type": "code",
   "execution_count": 250,
   "metadata": {},
   "outputs": [
    {
     "data": {
      "text/plain": [
       "{'sequence': 'j13',\n",
       " 'duration': 1000,\n",
       " 'depth_0': 4.2115,\n",
       " 'depth_1': 3.753,\n",
       " 'image_path_target_0': 'depth_discrimination_stimuli/001133_2014-06-17_14-49-16_260595134347_rgbf000100-resize_0/001133_2014-06-17_14-49-16_260595134347_rgbf000100-resize_0-target.png',\n",
       " 'image_path_target_1': 'depth_discrimination_stimuli/001132_2014-06-17_14-48-54_260595134347_rgbf000100-resize_2/001132_2014-06-17_14-48-54_260595134347_rgbf000100-resize_2-target.png',\n",
       " 'mask_path': 'masks/mask_39.jpg',\n",
       " 'fixation_path': 'fixation.jpg'}"
      ]
     },
     "execution_count": 250,
     "metadata": {},
     "output_type": "execute_result"
    }
   ],
   "source": [
    "# set all trial durations to 1000 ms\n",
    "for seq in sequences78:\n",
    "    for trial in seq:\n",
    "        trial['duration'] = 1000\n",
    "\n",
    "sequences78[0][0]"
   ]
  },
  {
   "cell_type": "code",
   "execution_count": 251,
   "metadata": {},
   "outputs": [],
   "source": [
    "# deepcopy of sequences - prevents alterations \n",
    "sequences78_1000ms = copy.deepcopy(sequences78)"
   ]
  },
  {
   "cell_type": "code",
   "execution_count": 252,
   "metadata": {},
   "outputs": [
    {
     "data": {
      "text/plain": [
       "(250, 1000)"
      ]
     },
     "execution_count": 252,
     "metadata": {},
     "output_type": "execute_result"
    }
   ],
   "source": [
    "sequences78_250ms[0][0]['duration'], sequences78_1000ms[0][0]['duration']"
   ]
  },
  {
   "cell_type": "code",
   "execution_count": 253,
   "metadata": {},
   "outputs": [],
   "source": [
    "dest_250ms = 'XX'\n",
    "dest_1000ms = 'XX'"
   ]
  },
  {
   "cell_type": "code",
   "execution_count": 254,
   "metadata": {},
   "outputs": [],
   "source": [
    "# save sequences as jsons \n",
    "num = 0\n",
    "for seq in sequences78_250ms:\n",
    "    with open(dest_250ms + 'Discrim250_randls_' + str(num)+ '.json', 'w') as outfile:\n",
    "        json.dump(seq, outfile)\n",
    "        num += 1"
   ]
  },
  {
   "cell_type": "code",
   "execution_count": 255,
   "metadata": {},
   "outputs": [],
   "source": [
    "# save sequences as jsons \n",
    "num = 0\n",
    "for seq in sequences78_1000ms:\n",
    "    with open(dest_1000ms + 'Discrim1000_randls_' + str(num)+ '.json', 'w') as outfile:\n",
    "        json.dump(seq, outfile)\n",
    "        num += 1"
   ]
  },
  {
   "cell_type": "markdown",
   "metadata": {},
   "source": [
    "# Flip sequences from front to back and within trials \n",
    "\n"
   ]
  },
  {
   "cell_type": "code",
   "execution_count": null,
   "metadata": {},
   "outputs": [],
   "source": []
  },
  {
   "cell_type": "code",
   "execution_count": 256,
   "metadata": {},
   "outputs": [],
   "source": [
    "import os \n",
    "\n",
    "def load_sequence(jsonpath):\n",
    "    return json.load(open(jsonpath))\n",
    "\n",
    "def flip_image_order(previous_seq):\n",
    "    flipped = previous_seq\n",
    "    for i in range(len(previous_seq)):\n",
    "        og_depth0 = previous_seq[i]['depth_0']\n",
    "        og_depth1 = previous_seq[i]['depth_1']\n",
    "        og_path0 = previous_seq[i]['image_path_target_0']\n",
    "        og_path1 = previous_seq[i]['image_path_target_1']\n",
    "        \n",
    "        flipped[i]['depth_0'] = og_depth1\n",
    "        flipped[i]['depth_1'] = og_depth0\n",
    "        flipped[i]['image_path_target_0'] = og_path1\n",
    "        flipped[i]['image_path_target_1'] = og_path0\n",
    "        \n",
    "    return flipped\n",
    "\n",
    "def create_flipped_seqs(jsonpath, exit, name):\n",
    "    master = load_sequence(jsonpath)\n",
    "    # reverse trial order\n",
    "    master.reverse()\n",
    "    # flip image order witin each trial\n",
    "    r = flip_image_order(master)\n",
    "    r_path = exit + '/' + name + '_rotated.json' # duration rotated sequence\n",
    "    #creates json file for the sequence \n",
    "    with open(r_path, 'w') as f:\n",
    "        json.dump(r , f)\n",
    "\n",
    "        \n",
    "def main_seq_flips(json_folderpath, exit):\n",
    "    \"\"\"\n",
    "    Create rotated sequence for each sequence in the folder\n",
    "    \"\"\"\n",
    "    for file in os.listdir(json_folderpath):\n",
    "        name = file.split(\".\")[0]\n",
    "        jsonpath = json_folderpath + \"/\" + file\n",
    "        try:\n",
    "            create_flipped_seqs(jsonpath, exit, name)\n",
    "        except:\n",
    "            print(\"Failed to create json flips for: \", file)"
   ]
  },
  {
   "cell_type": "code",
   "execution_count": 257,
   "metadata": {},
   "outputs": [
    {
     "name": "stdout",
     "output_type": "stream",
     "text": [
      "Failed to create json flips for:  .DS_Store\n"
     ]
    }
   ],
   "source": [
    "main_seq_flips(dest_250ms,dest_250ms)\n"
   ]
  },
  {
   "cell_type": "code",
   "execution_count": 258,
   "metadata": {},
   "outputs": [
    {
     "name": "stdout",
     "output_type": "stream",
     "text": [
      "Failed to create json flips for:  .DS_Store\n"
     ]
    }
   ],
   "source": [
    "main_seq_flips(dest_1000ms,dest_1000ms)\n"
   ]
  },
  {
   "cell_type": "code",
   "execution_count": 259,
   "metadata": {},
   "outputs": [],
   "source": [
    "def Discrimination_AccurateResponse_Distribution(jsondata):\n",
    "    \"\"\"\n",
    "    args: json data in a dictionary format\n",
    "    returns: [count0,count1] \n",
    "             where count0 is the number of trials where image 0 is the correct answer \n",
    "             where count1 is the number of trials where image 1 is the correct answer\n",
    "             \n",
    "    Question: Which target is CLOSER to you? \n",
    "    \"\"\"\n",
    "    count0 = 0\n",
    "    count1 = 0\n",
    "    equal = 0\n",
    "    \n",
    "    for trial in jsondata:\n",
    "        if trial['sequence'] != 'catch_trial':\n",
    "            depth0 = trial['depth_0']\n",
    "            depth1 = trial['depth_1']\n",
    "            if depth0 < depth1:\n",
    "                count0 += 1\n",
    "            if depth0 > depth1:\n",
    "                count1 += 1\n",
    "            if depth0 == depth1:\n",
    "                equal += 1\n",
    "    return [count0, count1, equal]"
   ]
  },
  {
   "cell_type": "code",
   "execution_count": 260,
   "metadata": {},
   "outputs": [
    {
     "data": {
      "text/plain": [
       "{'Discrim250_randls_0.json': [39, 39, 0],\n",
       " 'Discrim250_randls_0_rotated.json': [39, 39, 0],\n",
       " 'Discrim250_randls_1.json': [39, 39, 0],\n",
       " 'Discrim250_randls_10.json': [39, 39, 0],\n",
       " 'Discrim250_randls_10_rotated.json': [39, 39, 0],\n",
       " 'Discrim250_randls_11.json': [39, 39, 0],\n",
       " 'Discrim250_randls_11_rotated.json': [39, 39, 0],\n",
       " 'Discrim250_randls_12.json': [39, 39, 0],\n",
       " 'Discrim250_randls_12_rotated.json': [39, 39, 0],\n",
       " 'Discrim250_randls_13.json': [39, 39, 0],\n",
       " 'Discrim250_randls_13_rotated.json': [39, 39, 0],\n",
       " 'Discrim250_randls_14.json': [39, 39, 0],\n",
       " 'Discrim250_randls_14_rotated.json': [39, 39, 0],\n",
       " 'Discrim250_randls_15.json': [39, 39, 0],\n",
       " 'Discrim250_randls_15_rotated.json': [39, 39, 0],\n",
       " 'Discrim250_randls_16.json': [39, 39, 0],\n",
       " 'Discrim250_randls_16_rotated.json': [39, 39, 0],\n",
       " 'Discrim250_randls_17.json': [39, 39, 0],\n",
       " 'Discrim250_randls_17_rotated.json': [39, 39, 0],\n",
       " 'Discrim250_randls_18.json': [39, 39, 0],\n",
       " 'Discrim250_randls_18_rotated.json': [39, 39, 0],\n",
       " 'Discrim250_randls_19.json': [39, 39, 0],\n",
       " 'Discrim250_randls_19_rotated.json': [39, 39, 0],\n",
       " 'Discrim250_randls_1_rotated.json': [39, 39, 0],\n",
       " 'Discrim250_randls_2.json': [39, 39, 0],\n",
       " 'Discrim250_randls_20.json': [39, 39, 0],\n",
       " 'Discrim250_randls_20_rotated.json': [39, 39, 0],\n",
       " 'Discrim250_randls_21.json': [39, 39, 0],\n",
       " 'Discrim250_randls_21_rotated.json': [39, 39, 0],\n",
       " 'Discrim250_randls_22.json': [39, 39, 0],\n",
       " 'Discrim250_randls_22_rotated.json': [39, 39, 0],\n",
       " 'Discrim250_randls_23.json': [39, 39, 0],\n",
       " 'Discrim250_randls_23_rotated.json': [39, 39, 0],\n",
       " 'Discrim250_randls_24.json': [39, 39, 0],\n",
       " 'Discrim250_randls_24_rotated.json': [39, 39, 0],\n",
       " 'Discrim250_randls_25.json': [39, 39, 0],\n",
       " 'Discrim250_randls_25_rotated.json': [39, 39, 0],\n",
       " 'Discrim250_randls_26.json': [39, 39, 0],\n",
       " 'Discrim250_randls_26_rotated.json': [39, 39, 0],\n",
       " 'Discrim250_randls_27.json': [39, 39, 0],\n",
       " 'Discrim250_randls_27_rotated.json': [39, 39, 0],\n",
       " 'Discrim250_randls_28.json': [39, 39, 0],\n",
       " 'Discrim250_randls_28_rotated.json': [39, 39, 0],\n",
       " 'Discrim250_randls_29.json': [39, 39, 0],\n",
       " 'Discrim250_randls_29_rotated.json': [39, 39, 0],\n",
       " 'Discrim250_randls_2_rotated.json': [39, 39, 0],\n",
       " 'Discrim250_randls_3.json': [39, 39, 0],\n",
       " 'Discrim250_randls_30.json': [39, 39, 0],\n",
       " 'Discrim250_randls_30_rotated.json': [39, 39, 0],\n",
       " 'Discrim250_randls_31.json': [39, 39, 0],\n",
       " 'Discrim250_randls_31_rotated.json': [39, 39, 0],\n",
       " 'Discrim250_randls_32.json': [39, 39, 0],\n",
       " 'Discrim250_randls_32_rotated.json': [39, 39, 0],\n",
       " 'Discrim250_randls_33.json': [39, 39, 0],\n",
       " 'Discrim250_randls_33_rotated.json': [39, 39, 0],\n",
       " 'Discrim250_randls_34.json': [39, 39, 0],\n",
       " 'Discrim250_randls_34_rotated.json': [39, 39, 0],\n",
       " 'Discrim250_randls_35.json': [39, 39, 0],\n",
       " 'Discrim250_randls_35_rotated.json': [39, 39, 0],\n",
       " 'Discrim250_randls_36.json': [39, 39, 0],\n",
       " 'Discrim250_randls_36_rotated.json': [39, 39, 0],\n",
       " 'Discrim250_randls_37.json': [39, 39, 0],\n",
       " 'Discrim250_randls_37_rotated.json': [39, 39, 0],\n",
       " 'Discrim250_randls_38.json': [39, 39, 0],\n",
       " 'Discrim250_randls_38_rotated.json': [39, 39, 0],\n",
       " 'Discrim250_randls_39.json': [39, 39, 0],\n",
       " 'Discrim250_randls_39_rotated.json': [39, 39, 0],\n",
       " 'Discrim250_randls_3_rotated.json': [39, 39, 0],\n",
       " 'Discrim250_randls_4.json': [39, 39, 0],\n",
       " 'Discrim250_randls_40.json': [39, 39, 0],\n",
       " 'Discrim250_randls_40_rotated.json': [39, 39, 0],\n",
       " 'Discrim250_randls_41.json': [39, 39, 0],\n",
       " 'Discrim250_randls_41_rotated.json': [39, 39, 0],\n",
       " 'Discrim250_randls_42.json': [39, 39, 0],\n",
       " 'Discrim250_randls_42_rotated.json': [39, 39, 0],\n",
       " 'Discrim250_randls_43.json': [39, 39, 0],\n",
       " 'Discrim250_randls_43_rotated.json': [39, 39, 0],\n",
       " 'Discrim250_randls_44.json': [39, 39, 0],\n",
       " 'Discrim250_randls_44_rotated.json': [39, 39, 0],\n",
       " 'Discrim250_randls_45.json': [39, 39, 0],\n",
       " 'Discrim250_randls_45_rotated.json': [39, 39, 0],\n",
       " 'Discrim250_randls_46.json': [39, 39, 0],\n",
       " 'Discrim250_randls_46_rotated.json': [39, 39, 0],\n",
       " 'Discrim250_randls_47.json': [39, 39, 0],\n",
       " 'Discrim250_randls_47_rotated.json': [39, 39, 0],\n",
       " 'Discrim250_randls_48.json': [39, 39, 0],\n",
       " 'Discrim250_randls_48_rotated.json': [39, 39, 0],\n",
       " 'Discrim250_randls_49.json': [39, 39, 0],\n",
       " 'Discrim250_randls_49_rotated.json': [39, 39, 0],\n",
       " 'Discrim250_randls_4_rotated.json': [39, 39, 0],\n",
       " 'Discrim250_randls_5.json': [39, 39, 0],\n",
       " 'Discrim250_randls_50.json': [39, 39, 0],\n",
       " 'Discrim250_randls_50_rotated.json': [39, 39, 0],\n",
       " 'Discrim250_randls_51.json': [39, 39, 0],\n",
       " 'Discrim250_randls_51_rotated.json': [39, 39, 0],\n",
       " 'Discrim250_randls_52.json': [39, 39, 0],\n",
       " 'Discrim250_randls_52_rotated.json': [39, 39, 0],\n",
       " 'Discrim250_randls_53.json': [39, 39, 0],\n",
       " 'Discrim250_randls_53_rotated.json': [39, 39, 0],\n",
       " 'Discrim250_randls_54.json': [39, 39, 0],\n",
       " 'Discrim250_randls_54_rotated.json': [39, 39, 0],\n",
       " 'Discrim250_randls_55.json': [39, 39, 0],\n",
       " 'Discrim250_randls_55_rotated.json': [39, 39, 0],\n",
       " 'Discrim250_randls_56.json': [39, 39, 0],\n",
       " 'Discrim250_randls_56_rotated.json': [39, 39, 0],\n",
       " 'Discrim250_randls_57.json': [39, 39, 0],\n",
       " 'Discrim250_randls_57_rotated.json': [39, 39, 0],\n",
       " 'Discrim250_randls_58.json': [39, 39, 0],\n",
       " 'Discrim250_randls_58_rotated.json': [39, 39, 0],\n",
       " 'Discrim250_randls_59.json': [39, 39, 0],\n",
       " 'Discrim250_randls_59_rotated.json': [39, 39, 0],\n",
       " 'Discrim250_randls_5_rotated.json': [39, 39, 0],\n",
       " 'Discrim250_randls_6.json': [39, 39, 0],\n",
       " 'Discrim250_randls_60.json': [39, 39, 0],\n",
       " 'Discrim250_randls_60_rotated.json': [39, 39, 0],\n",
       " 'Discrim250_randls_61.json': [39, 39, 0],\n",
       " 'Discrim250_randls_61_rotated.json': [39, 39, 0],\n",
       " 'Discrim250_randls_62.json': [39, 39, 0],\n",
       " 'Discrim250_randls_62_rotated.json': [39, 39, 0],\n",
       " 'Discrim250_randls_63.json': [39, 39, 0],\n",
       " 'Discrim250_randls_63_rotated.json': [39, 39, 0],\n",
       " 'Discrim250_randls_64.json': [39, 39, 0],\n",
       " 'Discrim250_randls_64_rotated.json': [39, 39, 0],\n",
       " 'Discrim250_randls_65.json': [39, 39, 0],\n",
       " 'Discrim250_randls_65_rotated.json': [39, 39, 0],\n",
       " 'Discrim250_randls_66.json': [39, 39, 0],\n",
       " 'Discrim250_randls_66_rotated.json': [39, 39, 0],\n",
       " 'Discrim250_randls_67.json': [39, 39, 0],\n",
       " 'Discrim250_randls_67_rotated.json': [39, 39, 0],\n",
       " 'Discrim250_randls_68.json': [39, 39, 0],\n",
       " 'Discrim250_randls_68_rotated.json': [39, 39, 0],\n",
       " 'Discrim250_randls_69.json': [39, 39, 0],\n",
       " 'Discrim250_randls_69_rotated.json': [39, 39, 0],\n",
       " 'Discrim250_randls_6_rotated.json': [39, 39, 0],\n",
       " 'Discrim250_randls_7.json': [39, 39, 0],\n",
       " 'Discrim250_randls_70.json': [39, 39, 0],\n",
       " 'Discrim250_randls_70_rotated.json': [39, 39, 0],\n",
       " 'Discrim250_randls_71.json': [39, 39, 0],\n",
       " 'Discrim250_randls_71_rotated.json': [39, 39, 0],\n",
       " 'Discrim250_randls_72.json': [39, 39, 0],\n",
       " 'Discrim250_randls_72_rotated.json': [39, 39, 0],\n",
       " 'Discrim250_randls_73.json': [39, 39, 0],\n",
       " 'Discrim250_randls_73_rotated.json': [39, 39, 0],\n",
       " 'Discrim250_randls_74.json': [39, 39, 0],\n",
       " 'Discrim250_randls_74_rotated.json': [39, 39, 0],\n",
       " 'Discrim250_randls_75.json': [39, 39, 0],\n",
       " 'Discrim250_randls_75_rotated.json': [39, 39, 0],\n",
       " 'Discrim250_randls_76.json': [39, 39, 0],\n",
       " 'Discrim250_randls_76_rotated.json': [39, 39, 0],\n",
       " 'Discrim250_randls_77.json': [39, 39, 0],\n",
       " 'Discrim250_randls_77_rotated.json': [39, 39, 0],\n",
       " 'Discrim250_randls_7_rotated.json': [39, 39, 0],\n",
       " 'Discrim250_randls_8.json': [39, 39, 0],\n",
       " 'Discrim250_randls_8_rotated.json': [39, 39, 0],\n",
       " 'Discrim250_randls_9.json': [39, 39, 0],\n",
       " 'Discrim250_randls_9_rotated.json': [39, 39, 0]}"
      ]
     },
     "execution_count": 260,
     "metadata": {},
     "output_type": "execute_result"
    }
   ],
   "source": [
    "main_distribution = {}\n",
    "\n",
    "for js in os.listdir(dest_250ms):\n",
    "    if '.json' in js:\n",
    "        j_path = dest_250ms + '/' + js\n",
    "        with open(j_path) as f:\n",
    "            data = json.load(f)\n",
    "            main_distribution[js] = Discrimination_AccurateResponse_Distribution(data)\n",
    "\n",
    "main_distribution  "
   ]
  },
  {
   "cell_type": "code",
   "execution_count": 261,
   "metadata": {},
   "outputs": [
    {
     "data": {
      "text/plain": [
       "{'Discrim1000_randls_0.json': [39, 39, 0],\n",
       " 'Discrim1000_randls_0_rotated.json': [39, 39, 0],\n",
       " 'Discrim1000_randls_1.json': [39, 39, 0],\n",
       " 'Discrim1000_randls_10.json': [39, 39, 0],\n",
       " 'Discrim1000_randls_10_rotated.json': [39, 39, 0],\n",
       " 'Discrim1000_randls_11.json': [39, 39, 0],\n",
       " 'Discrim1000_randls_11_rotated.json': [39, 39, 0],\n",
       " 'Discrim1000_randls_12.json': [39, 39, 0],\n",
       " 'Discrim1000_randls_12_rotated.json': [39, 39, 0],\n",
       " 'Discrim1000_randls_13.json': [39, 39, 0],\n",
       " 'Discrim1000_randls_13_rotated.json': [39, 39, 0],\n",
       " 'Discrim1000_randls_14.json': [39, 39, 0],\n",
       " 'Discrim1000_randls_14_rotated.json': [39, 39, 0],\n",
       " 'Discrim1000_randls_15.json': [39, 39, 0],\n",
       " 'Discrim1000_randls_15_rotated.json': [39, 39, 0],\n",
       " 'Discrim1000_randls_16.json': [39, 39, 0],\n",
       " 'Discrim1000_randls_16_rotated.json': [39, 39, 0],\n",
       " 'Discrim1000_randls_17.json': [39, 39, 0],\n",
       " 'Discrim1000_randls_17_rotated.json': [39, 39, 0],\n",
       " 'Discrim1000_randls_18.json': [39, 39, 0],\n",
       " 'Discrim1000_randls_18_rotated.json': [39, 39, 0],\n",
       " 'Discrim1000_randls_19.json': [39, 39, 0],\n",
       " 'Discrim1000_randls_19_rotated.json': [39, 39, 0],\n",
       " 'Discrim1000_randls_1_rotated.json': [39, 39, 0],\n",
       " 'Discrim1000_randls_2.json': [39, 39, 0],\n",
       " 'Discrim1000_randls_20.json': [39, 39, 0],\n",
       " 'Discrim1000_randls_20_rotated.json': [39, 39, 0],\n",
       " 'Discrim1000_randls_21.json': [39, 39, 0],\n",
       " 'Discrim1000_randls_21_rotated.json': [39, 39, 0],\n",
       " 'Discrim1000_randls_22.json': [39, 39, 0],\n",
       " 'Discrim1000_randls_22_rotated.json': [39, 39, 0],\n",
       " 'Discrim1000_randls_23.json': [39, 39, 0],\n",
       " 'Discrim1000_randls_23_rotated.json': [39, 39, 0],\n",
       " 'Discrim1000_randls_24.json': [39, 39, 0],\n",
       " 'Discrim1000_randls_24_rotated.json': [39, 39, 0],\n",
       " 'Discrim1000_randls_25.json': [39, 39, 0],\n",
       " 'Discrim1000_randls_25_rotated.json': [39, 39, 0],\n",
       " 'Discrim1000_randls_26.json': [39, 39, 0],\n",
       " 'Discrim1000_randls_26_rotated.json': [39, 39, 0],\n",
       " 'Discrim1000_randls_27.json': [39, 39, 0],\n",
       " 'Discrim1000_randls_27_rotated.json': [39, 39, 0],\n",
       " 'Discrim1000_randls_28.json': [39, 39, 0],\n",
       " 'Discrim1000_randls_28_rotated.json': [39, 39, 0],\n",
       " 'Discrim1000_randls_29.json': [39, 39, 0],\n",
       " 'Discrim1000_randls_29_rotated.json': [39, 39, 0],\n",
       " 'Discrim1000_randls_2_rotated.json': [39, 39, 0],\n",
       " 'Discrim1000_randls_3.json': [39, 39, 0],\n",
       " 'Discrim1000_randls_30.json': [39, 39, 0],\n",
       " 'Discrim1000_randls_30_rotated.json': [39, 39, 0],\n",
       " 'Discrim1000_randls_31.json': [39, 39, 0],\n",
       " 'Discrim1000_randls_31_rotated.json': [39, 39, 0],\n",
       " 'Discrim1000_randls_32.json': [39, 39, 0],\n",
       " 'Discrim1000_randls_32_rotated.json': [39, 39, 0],\n",
       " 'Discrim1000_randls_33.json': [39, 39, 0],\n",
       " 'Discrim1000_randls_33_rotated.json': [39, 39, 0],\n",
       " 'Discrim1000_randls_34.json': [39, 39, 0],\n",
       " 'Discrim1000_randls_34_rotated.json': [39, 39, 0],\n",
       " 'Discrim1000_randls_35.json': [39, 39, 0],\n",
       " 'Discrim1000_randls_35_rotated.json': [39, 39, 0],\n",
       " 'Discrim1000_randls_36.json': [39, 39, 0],\n",
       " 'Discrim1000_randls_36_rotated.json': [39, 39, 0],\n",
       " 'Discrim1000_randls_37.json': [39, 39, 0],\n",
       " 'Discrim1000_randls_37_rotated.json': [39, 39, 0],\n",
       " 'Discrim1000_randls_38.json': [39, 39, 0],\n",
       " 'Discrim1000_randls_38_rotated.json': [39, 39, 0],\n",
       " 'Discrim1000_randls_39.json': [39, 39, 0],\n",
       " 'Discrim1000_randls_39_rotated.json': [39, 39, 0],\n",
       " 'Discrim1000_randls_3_rotated.json': [39, 39, 0],\n",
       " 'Discrim1000_randls_4.json': [39, 39, 0],\n",
       " 'Discrim1000_randls_40.json': [39, 39, 0],\n",
       " 'Discrim1000_randls_40_rotated.json': [39, 39, 0],\n",
       " 'Discrim1000_randls_41.json': [39, 39, 0],\n",
       " 'Discrim1000_randls_41_rotated.json': [39, 39, 0],\n",
       " 'Discrim1000_randls_42.json': [39, 39, 0],\n",
       " 'Discrim1000_randls_42_rotated.json': [39, 39, 0],\n",
       " 'Discrim1000_randls_43.json': [39, 39, 0],\n",
       " 'Discrim1000_randls_43_rotated.json': [39, 39, 0],\n",
       " 'Discrim1000_randls_44.json': [39, 39, 0],\n",
       " 'Discrim1000_randls_44_rotated.json': [39, 39, 0],\n",
       " 'Discrim1000_randls_45.json': [39, 39, 0],\n",
       " 'Discrim1000_randls_45_rotated.json': [39, 39, 0],\n",
       " 'Discrim1000_randls_46.json': [39, 39, 0],\n",
       " 'Discrim1000_randls_46_rotated.json': [39, 39, 0],\n",
       " 'Discrim1000_randls_47.json': [39, 39, 0],\n",
       " 'Discrim1000_randls_47_rotated.json': [39, 39, 0],\n",
       " 'Discrim1000_randls_48.json': [39, 39, 0],\n",
       " 'Discrim1000_randls_48_rotated.json': [39, 39, 0],\n",
       " 'Discrim1000_randls_49.json': [39, 39, 0],\n",
       " 'Discrim1000_randls_49_rotated.json': [39, 39, 0],\n",
       " 'Discrim1000_randls_4_rotated.json': [39, 39, 0],\n",
       " 'Discrim1000_randls_5.json': [39, 39, 0],\n",
       " 'Discrim1000_randls_50.json': [39, 39, 0],\n",
       " 'Discrim1000_randls_50_rotated.json': [39, 39, 0],\n",
       " 'Discrim1000_randls_51.json': [39, 39, 0],\n",
       " 'Discrim1000_randls_51_rotated.json': [39, 39, 0],\n",
       " 'Discrim1000_randls_52.json': [39, 39, 0],\n",
       " 'Discrim1000_randls_52_rotated.json': [39, 39, 0],\n",
       " 'Discrim1000_randls_53.json': [39, 39, 0],\n",
       " 'Discrim1000_randls_53_rotated.json': [39, 39, 0],\n",
       " 'Discrim1000_randls_54.json': [39, 39, 0],\n",
       " 'Discrim1000_randls_54_rotated.json': [39, 39, 0],\n",
       " 'Discrim1000_randls_55.json': [39, 39, 0],\n",
       " 'Discrim1000_randls_55_rotated.json': [39, 39, 0],\n",
       " 'Discrim1000_randls_56.json': [39, 39, 0],\n",
       " 'Discrim1000_randls_56_rotated.json': [39, 39, 0],\n",
       " 'Discrim1000_randls_57.json': [39, 39, 0],\n",
       " 'Discrim1000_randls_57_rotated.json': [39, 39, 0],\n",
       " 'Discrim1000_randls_58.json': [39, 39, 0],\n",
       " 'Discrim1000_randls_58_rotated.json': [39, 39, 0],\n",
       " 'Discrim1000_randls_59.json': [39, 39, 0],\n",
       " 'Discrim1000_randls_59_rotated.json': [39, 39, 0],\n",
       " 'Discrim1000_randls_5_rotated.json': [39, 39, 0],\n",
       " 'Discrim1000_randls_6.json': [39, 39, 0],\n",
       " 'Discrim1000_randls_60.json': [39, 39, 0],\n",
       " 'Discrim1000_randls_60_rotated.json': [39, 39, 0],\n",
       " 'Discrim1000_randls_61.json': [39, 39, 0],\n",
       " 'Discrim1000_randls_61_rotated.json': [39, 39, 0],\n",
       " 'Discrim1000_randls_62.json': [39, 39, 0],\n",
       " 'Discrim1000_randls_62_rotated.json': [39, 39, 0],\n",
       " 'Discrim1000_randls_63.json': [39, 39, 0],\n",
       " 'Discrim1000_randls_63_rotated.json': [39, 39, 0],\n",
       " 'Discrim1000_randls_64.json': [39, 39, 0],\n",
       " 'Discrim1000_randls_64_rotated.json': [39, 39, 0],\n",
       " 'Discrim1000_randls_65.json': [39, 39, 0],\n",
       " 'Discrim1000_randls_65_rotated.json': [39, 39, 0],\n",
       " 'Discrim1000_randls_66.json': [39, 39, 0],\n",
       " 'Discrim1000_randls_66_rotated.json': [39, 39, 0],\n",
       " 'Discrim1000_randls_67.json': [39, 39, 0],\n",
       " 'Discrim1000_randls_67_rotated.json': [39, 39, 0],\n",
       " 'Discrim1000_randls_68.json': [39, 39, 0],\n",
       " 'Discrim1000_randls_68_rotated.json': [39, 39, 0],\n",
       " 'Discrim1000_randls_69.json': [39, 39, 0],\n",
       " 'Discrim1000_randls_69_rotated.json': [39, 39, 0],\n",
       " 'Discrim1000_randls_6_rotated.json': [39, 39, 0],\n",
       " 'Discrim1000_randls_7.json': [39, 39, 0],\n",
       " 'Discrim1000_randls_70.json': [39, 39, 0],\n",
       " 'Discrim1000_randls_70_rotated.json': [39, 39, 0],\n",
       " 'Discrim1000_randls_71.json': [39, 39, 0],\n",
       " 'Discrim1000_randls_71_rotated.json': [39, 39, 0],\n",
       " 'Discrim1000_randls_72.json': [39, 39, 0],\n",
       " 'Discrim1000_randls_72_rotated.json': [39, 39, 0],\n",
       " 'Discrim1000_randls_73.json': [39, 39, 0],\n",
       " 'Discrim1000_randls_73_rotated.json': [39, 39, 0],\n",
       " 'Discrim1000_randls_74.json': [39, 39, 0],\n",
       " 'Discrim1000_randls_74_rotated.json': [39, 39, 0],\n",
       " 'Discrim1000_randls_75.json': [39, 39, 0],\n",
       " 'Discrim1000_randls_75_rotated.json': [39, 39, 0],\n",
       " 'Discrim1000_randls_76.json': [39, 39, 0],\n",
       " 'Discrim1000_randls_76_rotated.json': [39, 39, 0],\n",
       " 'Discrim1000_randls_77.json': [39, 39, 0],\n",
       " 'Discrim1000_randls_77_rotated.json': [39, 39, 0],\n",
       " 'Discrim1000_randls_7_rotated.json': [39, 39, 0],\n",
       " 'Discrim1000_randls_8.json': [39, 39, 0],\n",
       " 'Discrim1000_randls_8_rotated.json': [39, 39, 0],\n",
       " 'Discrim1000_randls_9.json': [39, 39, 0],\n",
       " 'Discrim1000_randls_9_rotated.json': [39, 39, 0]}"
      ]
     },
     "execution_count": 261,
     "metadata": {},
     "output_type": "execute_result"
    }
   ],
   "source": [
    "main_distribution = {}\n",
    "\n",
    "for js in os.listdir(dest_1000ms):\n",
    "    if '.json' in js:\n",
    "        j_path = dest_1000ms + '/' + js\n",
    "        with open(j_path) as f:\n",
    "            data = json.load(f)\n",
    "            main_distribution[js] = Discrimination_AccurateResponse_Distribution(data)\n",
    "\n",
    "main_distribution "
   ]
  },
  {
   "cell_type": "code",
   "execution_count": null,
   "metadata": {},
   "outputs": [],
   "source": []
  },
  {
   "cell_type": "code",
   "execution_count": null,
   "metadata": {},
   "outputs": [],
   "source": []
  }
 ],
 "metadata": {
  "kernelspec": {
   "display_name": "Python 3",
   "language": "python",
   "name": "python3"
  },
  "language_info": {
   "codemirror_mode": {
    "name": "ipython",
    "version": 3
   },
   "file_extension": ".py",
   "mimetype": "text/x-python",
   "name": "python",
   "nbconvert_exporter": "python",
   "pygments_lexer": "ipython3",
   "version": "3.7.4"
  }
 },
 "nbformat": 4,
 "nbformat_minor": 4
}
